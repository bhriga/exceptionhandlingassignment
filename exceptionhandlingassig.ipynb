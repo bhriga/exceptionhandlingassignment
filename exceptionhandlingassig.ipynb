{
 "cells": [
  {
   "cell_type": "code",
   "execution_count": null,
   "id": "d17af549-4a17-4d2c-9128-007b2afdb6c5",
   "metadata": {},
   "outputs": [],
   "source": [
    "Q1. What is an Exception in python? Write the difference between Exceptions and syntax errors\n",
    "\n",
    "answer:\n",
    "Exception handling is error management. It has three purposes.\n",
    "1. It allows you to debug your program.\n",
    "2. It allows your program to continue running despite\n",
    "encountering an error or exception.\n",
    "3. It allows you to create your customized errors that can help you\n",
    "debug, remove and control some of Python’s nuances, and make your\n",
    "program function as you want it to.\n",
    "\n",
    "a syntax error is a mistake in the structure of the program that prevents it from running,\n",
    "while an exception is an abnormal event that occurs during the execution of the program and can be handled to allow the program to continue running"
   ]
  },
  {
   "cell_type": "code",
   "execution_count": null,
   "id": "b0d6acf9-74b4-4275-8e62-b7cf8bdb93cf",
   "metadata": {},
   "outputs": [],
   "source": [
    "Q2. what happens when an exception is not handled?explain with an example\n",
    "\n",
    "answer:\n",
    " the runtime system will abort the program (i.e. crash) and an exception message will print to the console.\n",
    " the program stops executing with an error message."
   ]
  },
  {
   "cell_type": "code",
   "execution_count": 2,
   "id": "a0c02117-61d3-4485-a9a5-4cdc8af7fc31",
   "metadata": {},
   "outputs": [],
   "source": [
    " def div(dividend, divisor):\n",
    "     print(dividend / divisor)"
   ]
  },
  {
   "cell_type": "code",
   "execution_count": 3,
   "id": "185accbd-312d-48ca-83df-006926ccf6dd",
   "metadata": {},
   "outputs": [
    {
     "data": {
      "text/plain": [
       "<function __main__.div(dividend, divisor)>"
      ]
     },
     "execution_count": 3,
     "metadata": {},
     "output_type": "execute_result"
    }
   ],
   "source": [
    "div"
   ]
  },
  {
   "cell_type": "code",
   "execution_count": 4,
   "id": "2af2274f-c4ca-4dd8-9e0e-fd6ec02bf8ab",
   "metadata": {},
   "outputs": [
    {
     "ename": "ZeroDivisionError",
     "evalue": "division by zero",
     "output_type": "error",
     "traceback": [
      "\u001b[1;31m---------------------------------------------------------------------------\u001b[0m",
      "\u001b[1;31mZeroDivisionError\u001b[0m                         Traceback (most recent call last)",
      "Cell \u001b[1;32mIn[4], line 1\u001b[0m\n\u001b[1;32m----> 1\u001b[0m \u001b[43mdiv\u001b[49m\u001b[43m(\u001b[49m\u001b[38;5;241;43m5\u001b[39;49m\u001b[43m,\u001b[49m\u001b[38;5;241;43m0\u001b[39;49m\u001b[43m)\u001b[49m\n",
      "Cell \u001b[1;32mIn[2], line 2\u001b[0m, in \u001b[0;36mdiv\u001b[1;34m(dividend, divisor)\u001b[0m\n\u001b[0;32m      1\u001b[0m \u001b[38;5;28;01mdef\u001b[39;00m \u001b[38;5;21mdiv\u001b[39m(dividend, divisor):\n\u001b[1;32m----> 2\u001b[0m     \u001b[38;5;28mprint\u001b[39m(\u001b[43mdividend\u001b[49m\u001b[43m \u001b[49m\u001b[38;5;241;43m/\u001b[39;49m\u001b[43m \u001b[49m\u001b[43mdivisor\u001b[49m)\n",
      "\u001b[1;31mZeroDivisionError\u001b[0m: division by zero"
     ]
    }
   ],
   "source": [
    "div(5,0)"
   ]
  },
  {
   "cell_type": "code",
   "execution_count": null,
   "id": "e36eb3aa-eb14-489f-ac24-d41a77b4620c",
   "metadata": {},
   "outputs": [],
   "source": [
    "def div(dividend, divisor):\n",
    " try:\n",
    " print(dividend / divisor)\n",
    " except:\n",
    " print(\"Cannot Divide by Zero.\")"
   ]
  },
  {
   "cell_type": "code",
   "execution_count": null,
   "id": "8ff84ccb-7cf7-475b-827c-c868f52ca000",
   "metadata": {},
   "outputs": [],
   "source": [
    "Q3.which python statements are used to catch and handle exceptions?explain with an example\n",
    "\n",
    "answer:\n",
    "In Python, exceptions are caught and handled using the 'try' and 'except' block.\n"
   ]
  },
  {
   "cell_type": "code",
   "execution_count": 7,
   "id": "6e2e8141-9763-4a9b-8da3-687e2cc71a76",
   "metadata": {},
   "outputs": [
    {
     "name": "stdout",
     "output_type": "stream",
     "text": [
      "An unknown error has been detected.\n"
     ]
    }
   ],
   "source": [
    "try:\n",
    " print(dividend / divisor)\n",
    "except ZeroDivisionError:\n",
    "    print(\"Cannot Divide by Zero.\")\n",
    "except TypeError:\n",
    "    print(\"Cannot Divide by Anything Other Than a Number.\")\n",
    "except:\n",
    "    print(\"An unknown error has been detected.\")\n"
   ]
  },
  {
   "cell_type": "code",
   "execution_count": null,
   "id": "65bc4913-0e30-4033-bb74-094cba4a2e7c",
   "metadata": {},
   "outputs": [],
   "source": [
    "Q4.explain with example\n",
    "a)try and else\n",
    "b)finally\n",
    "c)raise\n",
    "\n",
    "answer:\n",
    "Try: This block will test the excepted error to occur\n",
    "Except:  Here you can handle the error\n",
    "Else: If there is no exception then this block will be executed\n",
    "Finally: Finally block always gets executed either exception is generated or not"
   ]
  },
  {
   "cell_type": "code",
   "execution_count": null,
   "id": "e23b6f52-a679-4b07-87fc-da441b82a62e",
   "metadata": {},
   "outputs": [],
   "source": [
    "def divide(x, y): \n",
    "    try: \n",
    "        result = x // y \n",
    "    except ZeroDivisionError: \n",
    "        print(\"Sorry ! You are dividing by zero \") \n",
    "    else:\n",
    "        print(\"Yeah ! Your answer is :\", result) \n",
    "    finally:  \n",
    "        # this block is always executed   \n",
    "        # regardless of exception generation.  \n",
    "        print('This is always executed')"
   ]
  },
  {
   "cell_type": "code",
   "execution_count": null,
   "id": "cc5f5ec4-a096-4a4a-9b35-e97334b36f62",
   "metadata": {},
   "outputs": [],
   "source": [
    "The raise keyword is used to raise an exception.\n",
    "\n",
    "You can define what kind of error to raise, and the text to print to the user."
   ]
  },
  {
   "cell_type": "code",
   "execution_count": null,
   "id": "3d519de0-c999-45ae-8c74-998b0877749b",
   "metadata": {},
   "outputs": [],
   "source": [
    "x = \"hello\"\n",
    "\n",
    "if not type(x) is int:\n",
    "  raise TypeError(\"Only integers are allowed\")"
   ]
  },
  {
   "cell_type": "code",
   "execution_count": null,
   "id": "d28009e7-f03b-4b45-ae08-ba515100d830",
   "metadata": {},
   "outputs": [],
   "source": [
    "Q4.what are custom exceptions in python?why do we need custom exceptions?explain with an example\n",
    "\n",
    "answer:\n",
    "In Python, we can define custom exceptions by creating a new class that is derived from the built-in Exception class.\n",
    "\n",
    "Here's the syntax to define custom exceptions,\n",
    "\n",
    "class CustomError(Exception):\n",
    "    ...\n",
    "    pass\n",
    "\n",
    "try:\n",
    "   ...\n",
    "\n",
    "except CustomError:\n",
    "    ..."
   ]
  },
  {
   "cell_type": "code",
   "execution_count": null,
   "id": "ab63502c-e0e0-4c9e-a3c1-ace8f277fea9",
   "metadata": {},
   "outputs": [],
   "source": [
    "custom exceptions are used to customize the exception according to user need. "
   ]
  },
  {
   "cell_type": "code",
   "execution_count": null,
   "id": "02c7bd30-8497-44bf-b969-6c315ea6d2b5",
   "metadata": {},
   "outputs": [],
   "source": [
    "class InvalidAgeException(Exception):\n",
    "    \"Raised when the input value is less than 18\"\n",
    "    pass\n",
    "\n",
    "# you need to guess this number\n",
    "number = 18\n",
    "\n",
    "try:\n",
    "    input_num = int(input(\"Enter a number: \"))\n",
    "    if input_num < number:\n",
    "        raise InvalidAgeException\n",
    "    else:\n",
    "        print(\"Eligible to Vote\")\n",
    "        \n",
    "except InvalidAgeException:\n",
    "    print(\"Exception occurred: Invalid Age\")"
   ]
  },
  {
   "cell_type": "code",
   "execution_count": null,
   "id": "40449cc7-a63b-4cf9-b4c7-7b9a3175a45e",
   "metadata": {},
   "outputs": [],
   "source": [
    "5Q.create a custom exception class.use this class to handle exception\n",
    "\n",
    "answer:"
   ]
  },
  {
   "cell_type": "code",
   "execution_count": null,
   "id": "419e9cb8-192e-4a18-a42a-efa8351afd19",
   "metadata": {},
   "outputs": [],
   "source": [
    "class CustomException(Exception):\n",
    "    def __init__(self, message=\"A custom exception occurred\"):\n",
    "        self.message = message\n",
    "        super().__init__(self.message)\n",
    "\n",
    "def example_function(x):\n",
    "    if x < 0:\n",
    "        raise CustomException(\"Input value must be non-negative\")\n",
    "\n",
    "try:\n",
    "    value = -5\n",
    "    example_function(value)\n",
    "except CustomException as e:\n",
    "    print(\"CustomException:\", e.message)\n"
   ]
  }
 ],
 "metadata": {
  "kernelspec": {
   "display_name": "Python 3 (ipykernel)",
   "language": "python",
   "name": "python3"
  },
  "language_info": {
   "codemirror_mode": {
    "name": "ipython",
    "version": 3
   },
   "file_extension": ".py",
   "mimetype": "text/x-python",
   "name": "python",
   "nbconvert_exporter": "python",
   "pygments_lexer": "ipython3",
   "version": "3.12.0"
  }
 },
 "nbformat": 4,
 "nbformat_minor": 5
}
